{
 "cells": [
  {
   "cell_type": "code",
   "execution_count": 611,
   "id": "0a73f4c6-38f6-41d6-ace6-52b41bbf103a",
   "metadata": {},
   "outputs": [],
   "source": [
    "import json\n",
    "from decimal import Decimal, getcontext\n",
    "from datetime import datetime\n",
    "from web3 import Web3\n",
    "\n",
    "getcontext().prec = 18"
   ]
  },
  {
   "cell_type": "code",
   "execution_count": 612,
   "id": "6bf593c0-3ea1-4b42-961c-7480adec46e6",
   "metadata": {},
   "outputs": [],
   "source": [
    "CATS_CONTRACT = \"0xF084962cdC640ED5c7d4e35E52929dAC06B60F7C\"\n",
    "CATS_RESERVE = \"0x4eA682B94B7e13894C3d0b9afEbFbDd38CdACc3C\"\n",
    "\n",
    "w3 = Web3(Web3.HTTPProvider(\"https://rpc.blast.io\"))\n",
    "assert w3.is_connected(), \"Failed to connect to Blast\""
   ]
  },
  {
   "cell_type": "code",
   "execution_count": 613,
   "id": "e9189079-2319-4bb2-afe7-90ff709bd6cb",
   "metadata": {},
   "outputs": [],
   "source": [
    "with open(\"./PlutocatsToken.json\", \"r\") as f:\n",
    "    PLUTOCATS_ABI = json.loads(f.read())\n",
    "    \n",
    "contract = w3.eth.contract(address=CATS_CONTRACT, abi=PLUTOCATS_ABI)"
   ]
  },
  {
   "cell_type": "code",
   "execution_count": 614,
   "id": "80326b33-f44e-46ff-aaf9-e96206893534",
   "metadata": {},
   "outputs": [],
   "source": [
    "def to_eth(wei):\n",
    "    return round(float(Web3.from_wei(wei, 'ether')),8)\n",
    "\n",
    "def date_to_unix(date_str):\n",
    "    date_obj = datetime.strptime(date_str, '%Y-%m-%d')\n",
    "    unix_time = int(date_obj.timestamp())\n",
    "    return unix_time\n",
    "\n",
    "def format_time_units(time_in_hours):\n",
    "    days = time_in_hours // 24\n",
    "    hours = time_in_hours % 24\n",
    "    result = \"\"\n",
    "    if days > 0:\n",
    "        result += f\"{int(days)} day{'s' if days > 1 else ''} \"\n",
    "    if hours > 0:\n",
    "        result += f\"{int(hours)} hour{'s' if hours > 1 else ''}\"\n",
    "    return result.strip()\n",
    "\n",
    "def format_unix_seconds_to_datetime(unix_seconds):\n",
    "    date_time = datetime.fromtimestamp(unix_seconds)\n",
    "\n",
    "    formatted_date_time = date_time.strftime('%Y-%m-%d %H:%M:%S')\n",
    "    return formatted_date_time\n",
    "\n",
    "def block_timestamp(): \n",
    "    block_number = w3.eth.block_number\n",
    "    block = w3.eth.get_block(block_number)\n",
    "    ts = block.timestamp\n",
    "    return ts\n",
    "\n",
    "def scaled_days_to_unix_seconds(scaled_days):\n",
    "    SECONDS_PER_DAY = 86400\n",
    "    SCALING_FACTOR = 10**18\n",
    "\n",
    "    scaled_days = scaled_days * 10 ** 18\n",
    "    days = scaled_days / SCALING_FACTOR\n",
    "    unix_seconds = days * SECONDS_PER_DAY\n",
    "    return int(unix_seconds) "
   ]
  },
  {
   "cell_type": "code",
   "execution_count": 615,
   "id": "414c67af-cc98-4da1-812d-8d668fda7c01",
   "metadata": {},
   "outputs": [],
   "source": [
    "def get_sold():\n",
    "    sold = contract.functions.totalSupply().call()\n",
    "    return sold\n",
    "\n",
    "def get_book_per_cat():\n",
    "    current_reserve = w3.eth.get_balance(CATS_RESERVE)\n",
    "    current_supply = contract.functions.adjustedTotalSupply().call()\n",
    "    book_value_per_cat = current_reserve / current_supply\n",
    "    return book_value_per_cat\n",
    "\n",
    "def get_target_sale_time(sold):\n",
    "    target_sale_time = contract.functions.getTargetSaleTime(sold).call()\n",
    "    return target_sale_time\n",
    "\n",
    "def get_vrgda_price(time_since_start, sold):\n",
    "    vrgda_price = contract.functions.getVRGDAPrice(time_since_start, sold).call()\n",
    "    return vrgda_price"
   ]
  },
  {
   "cell_type": "code",
   "execution_count": 616,
   "id": "c47c6b86-ac22-4423-9697-827aec491fcf",
   "metadata": {},
   "outputs": [],
   "source": [
    "def to_days_wad_unsafe(x):\n",
    "    \"\"\"\n",
    "    Takes an integer amount of seconds and converts it to a wad amount of days.\n",
    "    Assumes x is a positive integer, as the function does not handle negative input \n",
    "    safely.\n",
    "    \"\"\"\n",
    "    # Constants\n",
    "    SCALING_FACTOR = 10**18\n",
    "    SECONDS_PER_DAY = 86400\n",
    "    \n",
    "    # Convert seconds to 'wad' scaled days\n",
    "    scaled_days = (x * SCALING_FACTOR) // SECONDS_PER_DAY\n",
    "    return scaled_days"
   ]
  },
  {
   "cell_type": "code",
   "execution_count": null,
   "id": "0c8406de-33da-4bd0-a0f1-f5264375356b",
   "metadata": {},
   "outputs": [],
   "source": []
  },
  {
   "cell_type": "code",
   "execution_count": null,
   "id": "dd0e7e4f-dbd9-4980-af3e-c8831b3613c4",
   "metadata": {},
   "outputs": [],
   "source": []
  },
  {
   "cell_type": "code",
   "execution_count": 617,
   "id": "f08572d4-8c9b-4129-9580-4370cee4223c",
   "metadata": {},
   "outputs": [],
   "source": [
    "start_time = 1710445629\n",
    "\n",
    "# comment to test\n",
    "target_time = date_to_unix(\"2025-01-01\")\n",
    "target_sold = 3234\n",
    "\n",
    "# uncomment to test\n",
    "# target_time = block_timestamp()\n",
    "# target_sold = get_sold()\n",
    "\n",
    "time_since_start = target_time - start_time"
   ]
  },
  {
   "cell_type": "code",
   "execution_count": 618,
   "id": "902d8f61-30e2-4d1a-b500-fd5dc9698738",
   "metadata": {},
   "outputs": [],
   "source": [
    "price = get_vrgda_price(to_days_wad_unsafe(time_since_start), target_sold)"
   ]
  },
  {
   "cell_type": "code",
   "execution_count": 619,
   "id": "9e81ee14-31bb-4765-b7ce-8bcdce4111a3",
   "metadata": {},
   "outputs": [
    {
     "name": "stdout",
     "output_type": "stream",
     "text": [
      "0.9470259\n",
      "0.94786688\n"
     ]
    }
   ],
   "source": [
    "print(to_eth(get_book_per_cat()))\n",
    "print(to_eth(price))"
   ]
  },
  {
   "cell_type": "code",
   "execution_count": 620,
   "id": "26188c75-f5a6-465d-a2d8-c6ddcfc5f853",
   "metadata": {},
   "outputs": [],
   "source": [
    "def error_function(time_to_start, target):\n",
    "    current_price = to_eth(get_book_per_cat())\n",
    "    predicted_price = to_eth(get_vrgda_price(to_days_wad_unsafe(time_to_start), target))\n",
    "    return (predicted_price - current_price) / current_price - 0.05\n",
    "\n",
    "def find_T(time_to_start, T_min, T_max, tolerance=1e-6):\n",
    "    low = T_min\n",
    "    high = T_max\n",
    "    while high - low > tolerance:\n",
    "        mid = int((low + high) / 2)\n",
    "        if error_function(time_to_start, mid) * error_function(time_to_start, low) < 0:\n",
    "            high = mid\n",
    "        else:\n",
    "            low = mid\n",
    "    return int((low + high) / 2)"
   ]
  },
  {
   "cell_type": "code",
   "execution_count": 624,
   "id": "5b3b1401-081a-472f-9732-c41dca601d58",
   "metadata": {},
   "outputs": [
    {
     "name": "stdout",
     "output_type": "stream",
     "text": [
      "Approx nr of cats minted to stay close to 0.9470259 floor by EOY: 3240\n"
     ]
    }
   ],
   "source": [
    "# Example usage\n",
    "T_min = 500  # Adjust according to your context\n",
    "T_max = 4000  # Adjust according to your context\n",
    "tolerance = 1  # Precision of the solution\n",
    "T = find_T(time_since_start, T_min, T_max, tolerance)\n",
    "book = to_eth(get_book_per_cat())\n",
    "print(f\"Approx nr of cats minted to stay close to {book} floor by EOY: {T}\")"
   ]
  },
  {
   "cell_type": "code",
   "execution_count": null,
   "id": "d8729f5e-a080-4ab3-a72f-a1f3f3704203",
   "metadata": {},
   "outputs": [],
   "source": []
  },
  {
   "cell_type": "code",
   "execution_count": null,
   "id": "826640ea-d6c6-4439-8769-cb0e2cc1cfea",
   "metadata": {},
   "outputs": [],
   "source": []
  },
  {
   "cell_type": "code",
   "execution_count": 581,
   "id": "d3f5219c-e9bc-49bc-a8aa-046b785452d7",
   "metadata": {},
   "outputs": [],
   "source": [
    "def unsafe_wad_div(x, y):\n",
    "    SCALING_FACTOR = 10**18\n",
    "    try:\n",
    "        result = (x * SCALING_FACTOR) // y\n",
    "    except ZeroDivisionError:\n",
    "        result = 0\n",
    "    return result"
   ]
  },
  {
   "cell_type": "code",
   "execution_count": 589,
   "id": "37e78790-4070-48fd-b82c-61375c312122",
   "metadata": {},
   "outputs": [
    {
     "name": "stdout",
     "output_type": "stream",
     "text": [
      "Cat 718 should be sold by: 71.0\n"
     ]
    }
   ],
   "source": [
    "target_sold = 718\n",
    "per_time_unit = 10e18\n",
    "result = unsafe_wad_div(target_sold, per_time_unit)"
   ]
  },
  {
   "cell_type": "code",
   "execution_count": 591,
   "id": "cd554ba9-cd66-4368-8f26-5a140b4853f6",
   "metadata": {},
   "outputs": [
    {
     "name": "stdout",
     "output_type": "stream",
     "text": [
      "Cat 718 is scheduled to be sold by: 2024-05-24 12:47:09\n"
     ]
    }
   ],
   "source": [
    "sell_by_seconds = scaled_days_to_unix_seconds(result)\n",
    "target_datetime = start_time + sell_by_seconds\n",
    "target_date = format_unix_seconds_to_datetime(target_datetime)\n",
    "\n",
    "print(f\"Cat {target_sold} is scheduled to be sold by: {target_date}\")"
   ]
  },
  {
   "cell_type": "code",
   "execution_count": 576,
   "id": "45e8d540-5ea6-4d65-85be-387112635c82",
   "metadata": {},
   "outputs": [],
   "source": []
  },
  {
   "cell_type": "code",
   "execution_count": null,
   "id": "f4a01ac0-ae5e-4fb3-95bd-d1f5363399c0",
   "metadata": {},
   "outputs": [],
   "source": []
  },
  {
   "cell_type": "code",
   "execution_count": null,
   "id": "ed9ad0e0-b7a4-44b2-83e8-92e3b6357e3a",
   "metadata": {},
   "outputs": [],
   "source": []
  },
  {
   "cell_type": "code",
   "execution_count": null,
   "id": "9f694a09-b3b5-43f3-8cc8-e6759d07b249",
   "metadata": {},
   "outputs": [],
   "source": []
  }
 ],
 "metadata": {
  "kernelspec": {
   "display_name": "Python 3 (ipykernel)",
   "language": "python",
   "name": "python3"
  },
  "language_info": {
   "codemirror_mode": {
    "name": "ipython",
    "version": 3
   },
   "file_extension": ".py",
   "mimetype": "text/x-python",
   "name": "python",
   "nbconvert_exporter": "python",
   "pygments_lexer": "ipython3",
   "version": "3.9.12"
  }
 },
 "nbformat": 4,
 "nbformat_minor": 5
}
